{
 "cells": [
  {
   "cell_type": "markdown",
   "metadata": {},
   "source": [
    "## RSA - The Project"
   ]
  },
  {
   "cell_type": "markdown",
   "metadata": {},
   "source": [
    "Name: Tyler Bosford\n",
    "\n",
    "Moodle Email: tybo6801@colorado.edu\n",
    "\n",
    "Name your file \"cuidentikey\".ipynb  This means YOUR identikey. \n",
    "\n",
    "**Do NOT delete instructions or pre-existing comments in the code. Removal will trigger significat point reductions** \n",
    "\n",
    "**Required: Add your own comments as if the instructions and comments are not visible - this allows you to customize your project after the course**\n",
    "\n"
   ]
  },
  {
   "cell_type": "markdown",
   "metadata": {},
   "source": [
    "**The Prompt:**\n",
    "\n",
    "Your boss has been long intrigued by the RSA algorthim and has asked you to create a turorial RSA walk through and exploration project to help the boss and others in the company to understand the basic structures and mathematics of an RSA implementation.\n",
    "\n",
    "Your project will:\n",
    "1. Implement the algorithm for breaking codes with a given basic structure. \n",
    "2. Explain the steps in an \"Inverview Grading Style\" with Jupyter Lab Text blocks demostrating and explaining the function as you go. \n",
    "3. These demonstrations, explanations, and code comments must demonstrate that you understand the code and what it is doing. \n",
    "4. After the basic implementation you will rewrite the code completely with your own improvements, or copy the basic code package and add new features. This will be your custom feature.\n",
    "5. IMPORTANT - in the first implementation you will keep all instructions, given comments in the code, and use the variable names and set up as given. For your custom feature you may remove these and make the code \"your own.\" ALL CHANGE must be explained in text - why did you change/make improvements? We should be able to see how you adapted the orginal code.\n",
    "\n",
    "\n",
    "\n",
    "\n"
   ]
  },
  {
   "cell_type": "markdown",
   "metadata": {},
   "source": [
    "<hr />\n",
    "\n",
    "# Table of Contents/Grading Structure\n",
    "\n",
    "#### 0. Bonus +/- Overall structure, code comments, and following directions. (Score may go up or down if overall structure or format is excellent or incomplete). Not extra credit.\n",
    "\n",
    "## 1. Introduction to your RSA Project (5 points)\n",
    "\n",
    "\n",
    "## 2. Code Package: FME    (10 points)\n",
    "        * Convert_Binary_String \n",
    "        * FME\n",
    "\n",
    "## 3. Code Package: Key Generation using Euclidean Algorithms    (10 points)\n",
    "        * Euclidean Algorithm\n",
    "        * Extended EA\n",
    "        * Find_Public_Key_e\n",
    "        * Find_Private_Key_d\n",
    "\n",
    "## 4. Code Package: En/Decode Your Messages  (10 points)\n",
    "        * Convert_Text\n",
    "        * Convert_Num\n",
    "        * Encode\n",
    "        * Decode\n",
    "\n",
    "\n",
    "## 5. Create a Code Demo(10 points)\n",
    "\n",
    "## 6. Code Exchange Results  (5 points)\n",
    "\n",
    "## 7. Write a Narrative (25 points)\n",
    "\n",
    "## 8. Code Breaking:  (10 points)\n",
    "\n",
    "## 9. Code Breaking: Complete Examples  (5 points)\n",
    "\n",
    "## 10. Custom code feature / Advanced options  (10 points) \n",
    "\n",
    "\n",
    "    \n"
   ]
  },
  {
   "cell_type": "markdown",
   "metadata": {},
   "source": [
    "Main Function RSA()"
   ]
  },
  {
   "cell_type": "markdown",
   "metadata": {},
   "source": [
    "\n",
    "\n",
    "\n",
    "\n",
    "\n"
   ]
  },
  {
   "cell_type": "markdown",
   "metadata": {
    "tags": []
   },
   "source": [
    "## 1. Introduction to your RSA Project (5 points) \n",
    "<span style=\"color:DarkRed\">Write an introduction/overview here. This should be something someone who has never seen your project could read to understand what is coming. Give a broad summarized overview of RSA components, discuss your custom feature a bit, and  include some preliminary narrative regarding your process. Much of this will be fleshed out in your narrative below, so remember to simply summarize details. This should be a robust paragraph or two of 200 - 300 words.</span>\n"
   ]
  },
  {
   "cell_type": "markdown",
   "metadata": {
    "tags": []
   },
   "source": [
    "\n",
    "The Rivest, Shamir, and Adleman algorithm is a public-key encryption system used to secure data, provide digital signatures to support authenticity and non-repudiation, establish secure connections, and much more. It is a system that is based on using two distinct large prime numbers to create a public key (n , e) that is visible to everyone. Then, I would find a unique private key (d) by finding the modular inverse of (e). What this does is make a one-way function that allows for easy computation by authorized users and near impossible computation for unauthorized users. Here’s how it works; let’s say you wish to send me an encrypted message. First, you would use my public keys (n, e) to encrypt your message (m). After performing the encryption computation you would have a cypher-text message (c). I would then use my private key (d) to decrypt to the cypher-text and read your message. Then, if I wanted to respond I would perform the same function in reverse with your keys. Throughout this entire process all an attacker would be able to see is our cryptographic messages and our public keys. Without knowledge of the original two prime numbers or either of our private keys they would not be able to view our messages. Technically, no encryption is impenetrable. However, if implemented correctly, the RSA algorithm would be so computationally straining for an attacker to crack that by the time they succeeded the information would no longer be relevant. Thus, making it a sufficient algorithm for our organization. I have also included a user friendly function RSA() that will allow a member to perform any task as needed from the command line. I also created a solution to always find the largest possible e that has the lowest possible hamming weight. I am not considering that a custom feature, but rather a cool thing I worked on."
   ]
  },
  {
   "cell_type": "markdown",
   "metadata": {},
   "source": [
    "## 2. Code Package FME (10 points)\n",
    "\n",
    "<span style=\"color:DarkRed\"> \n",
    "\n",
    "FME is an essential function for RSA to pre-process the messages before the messages are encoded and decoded by the RSA algorithm. \n",
    "You have 3 choices of algorithms for this:\n",
    "* The Rosen Book FME - which will need Convert_Binary_String below.\n",
    "* Sriram's FME from the video.\n",
    "* Your own \"Square and Mod\" function defined with a look up table.\n",
    "    \n",
    "*Do not copy code from the internet - it is recognized immediately by our software. In particular, use of bitshifting is forbidden in the first part of the project but may be explored in the custom feature.*\n",
    "</span>\n",
    "\n"
   ]
  },
  {
   "cell_type": "code",
   "execution_count": 1,
   "metadata": {},
   "outputs": [],
   "source": [
    "def Convert_Binary_String(_int):\n",
    "    \"\"\"\n",
    "    Here, you need to define a function that converts an integer to\n",
    "    a string of its binary expansion. You may or may not need this function. \n",
    "    \n",
    "    For example:\n",
    "    _int = 345\n",
    "    bits = 101011001\n",
    "    \"\"\"\n",
    "    \n",
    "    return bin(_int)[2:]"
   ]
  },
  {
   "cell_type": "code",
   "execution_count": 2,
   "metadata": {},
   "outputs": [],
   "source": [
    "def FME(b, n, m):\n",
    "    \"\"\"\n",
    "    1. Using the fast modular exponentiation algorithm,\n",
    "    the below function should return b**n mod m.\n",
    "    As described on page 254. (however, you may input the exponent and \n",
    "    then convert it to a string - the book version imports the binary expansion)  \n",
    "    2. You should use the function defined above Convert_Binary_String() if using the book algorithm.\n",
    "    3. For this block you MUST use one of the 3 methods above.\n",
    "    4. Any method using bit-shifting or copied from the internet (even changing varibale names) will result in a 0.\n",
    "    \n",
    "    **If you are completely stuck, you may use pow() with a 10pt penalty.**\n",
    "\n",
    "    You may use the function you developed in your Mastery Workbook - but be sure it is your own\n",
    "    work, commented, etc. and change inputs as needed.\n",
    "    \"\"\"\n",
    "    result = 1\n",
    "    square = b\n",
    "    # Binary Expansion of n\n",
    "    while n > 0:\n",
    "        k = n % 2\n",
    "        # Only multiplies the 1 bits of n\n",
    "        if k == 1:\n",
    "            result = (result * square) % m\n",
    "        square = (square * square) % m\n",
    "        n = n//2\n",
    "    return result"
   ]
  },
  {
   "cell_type": "markdown",
   "metadata": {},
   "source": [
    "## 3. Code Package: Key Generation using Euclidean Algorithms    (10 points)\n",
    "\n",
    "<span style=\"color:DarkRed\">\n",
    "\n",
    "The functions below will generate the public and private key pairs which will then be used to create a ciphertext using the public key and then decode the same using the private key. </span>\n",
    "\n"
   ]
  },
  {
   "cell_type": "code",
   "execution_count": 3,
   "metadata": {},
   "outputs": [],
   "source": [
    "def Euclidean_Alg(a, b):\n",
    "    \"\"\"\n",
    "    1. Calculate the Greatest Common Divisor of a and b.\n",
    "    \n",
    "    2. This version should have only positive inputs and outputs.\n",
    "    \n",
    "    3. The function must return a single integer ('x') which is\n",
    "    the gcd of a and b.\n",
    "    \n",
    "    \n",
    "    \"\"\"\n",
    "    while b > 0:  # Condition check for the value of n.\n",
    "        k = a % b  # K will eventually be the new value of n\n",
    "        a = b  # Used to perform the next step of Euclid's algorithm. Keeps largest value to the left.\n",
    "        b = k  # Resets n's value until n = 0\n",
    "    return a"
   ]
  },
  {
   "cell_type": "code",
   "execution_count": 4,
   "metadata": {},
   "outputs": [],
   "source": [
    "def EEA(a, b):\n",
    "    \"\"\"\n",
    "    This is a helper function utilizing Bezout's theorem as discussed in your MW.\n",
    "    You will follow these same steps closely to construct this function.\n",
    "    \n",
    "    This version will return both: \n",
    "    1. the GCD of a, b \n",
    "    2. Bezout's coefficients in any form you wish. We recommend returning your coefficients as a list or a tuple. \n",
    "    HINT: return GCD, (s1, t1)\n",
    "    \n",
    "    * Ensure that your inputs are positive integers. Implement these kinds of checks.\n",
    "    * It might also behoove you to consider reassigning a, b to new coefficients depending on which is greater.\n",
    "    \n",
    "    \"\"\"\n",
    "    (s1, t1) = (1, 0)  # Init values to find Bezout Coeff. later\n",
    "    (s2, t2) = (0, 1)\n",
    "    while b > 0:  # Condition check for the value of n.\n",
    "        k = a % b  # K will eventually be the new value of n\n",
    "        q = a // b  # Quotient used later for (s2, t2)\n",
    "        # Begin process for Bezout coeff.\n",
    "        a = b  # Used to perform the next step of Euclid's algorithm. Keeps largest value to the left.\n",
    "        b = k  # Resets n's value until n = 0\n",
    "        (s1_hat, t1_hat) = (s2, t2)\n",
    "        (s2_hat, t2_hat) = ((s1 - q * s2), (t1 - q * t2))  # Our formula to eventually find Bezout coeff.\n",
    "        (s2, t2) = (s2_hat, t2_hat)\n",
    "        (s1, t1) = (s1_hat, t1_hat)\n",
    "    return a, (s1, t1)\n",
    "    \n",
    "    "
   ]
  },
  {
   "cell_type": "code",
   "execution_count": 5,
   "metadata": {},
   "outputs": [],
   "source": [
    "def Find_Public_Key_e(p, q):\n",
    "\n",
    "    \"\"\"\n",
    "    Implement this function such that\n",
    "    it takes 2 primes p and q.\n",
    "    \n",
    "    Use the gcd function that you have \n",
    "    defined before.\n",
    "    \n",
    "    The function should return 2 elements as follows:\n",
    "    public key: n\n",
    "    public key: e\n",
    "    \n",
    "    HINT: this function will run a loop to find e such \n",
    "    that e is relatively prime to (p - 1) (q - 1) \n",
    "    and not equal to p or q.\n",
    "    \n",
    "    NOTE: There are a number of ways to implement this key feature. \n",
    "    You, as the coder, can choose to how to acheive this goal.\n",
    "    \n",
    "    \"\"\"\n",
    "    # public Key n\n",
    "    n = p * q\n",
    "    # Used to find our value e must be less than.\n",
    "    phi_n = (p - 1) * (q - 1)\n",
    "    # For time if n is 12 digits or greater e will equal 65537 as long as gcd(n, 65537) = 1\n",
    "    x = 1\n",
    "    valid_e = []\n",
    "    # Loop that will always find an exponent e with a hamming weight of 2\n",
    "    while phi_n > x:\n",
    "        x = x * 2\n",
    "        y = x + 1\n",
    "        if Euclidean_Alg(y, phi_n) == 1 and y < phi_n:\n",
    "            valid_e.append(y)\n",
    "            e = max(valid_e)\n",
    "    return n, e"
   ]
  },
  {
   "cell_type": "code",
   "execution_count": 6,
   "metadata": {},
   "outputs": [],
   "source": [
    "def Find_Private_Key_d(e, p, q):\n",
    "    \"\"\"\n",
    "    Implement this function to find the decryption exponent d, \n",
    "    such that d is the modular inverse of e. \n",
    "    \n",
    "    This will use the Extended Euclidean Algorithm\n",
    "    \n",
    "    This function should return the following:\n",
    "    d: the decryption component.\n",
    "    \n",
    "    This is not a single action, and there are multiple methods to create this. \n",
    "    \n",
    "    You may create a helper function or have all code within this function.\n",
    "    \n",
    "    Plan ahead before coding this.\n",
    "\n",
    "    \"\"\"\n",
    "    phi_n = (p - 1) * (q - 1)\n",
    "    d = (EEA(phi_n, e)[1][1])# Finds modular inverse of e. Ensures d is positive.\n",
    "    if d < 0:\n",
    "        d = d + phi_n # Ensures d is positive.\n",
    "    return d"
   ]
  },
  {
   "cell_type": "markdown",
   "metadata": {},
   "source": [
    "## 4. Code Package: En/Decode Your Messages  (10 points)\n",
    "\n",
    "<span style=\"color:DarkRed\">\n",
    "\n",
    "1. In this part, you will define two functions `Encode` and `Decode` which will use the public and private keys that you calculated above.\n",
    "2. Using the public key, the `Encode` function will encode a message and generate the corresponding cipher_text.\n",
    "3. Using the private key, the `Decode` function will decode a cipher_text and recover the original message.\n",
    "4. We are proving Convert_Text and Convert_Num for you.</span>\n",
    "\n"
   ]
  },
  {
   "cell_type": "code",
   "execution_count": 7,
   "metadata": {},
   "outputs": [],
   "source": [
    "def Convert_Text(_string):\n",
    "    \"\"\"\n",
    "    Define this function such that it takes in a simple \n",
    "    string such as \"hello\" and outputs the corresponding\n",
    "    standard list of integers (ascii) for each letter in the word hello.\n",
    "    For example:\n",
    "    _string = hello\n",
    "    integer_list = [104, 101, 108, 108, 111]\n",
    "    \n",
    "    You may use \"ord()\"\n",
    "    \"\"\"\n",
    "    integer_list = []\n",
    "    for letter in _string: # Creates a list of ascii values for respective char\n",
    "        integer_list.append(ord(letter))\n",
    "    return integer_list"
   ]
  },
  {
   "cell_type": "code",
   "execution_count": 8,
   "metadata": {},
   "outputs": [],
   "source": [
    "def Convert_Num(_list):\n",
    "    \"\"\"\n",
    "    Do the opposite of what you did in the Convert_Text\n",
    "    function defined above.\n",
    "    \n",
    "    Define this function such that it takes in a list of integers\n",
    "    and outputs the corresponding string (ascii).\n",
    "    \n",
    "    For example:\n",
    "    _list = [104, 101, 108, 108, 111]\n",
    "    _string = hello\n",
    "    \"\"\"\n",
    "    _string = ''\n",
    "    for i in _list: # Iterates through list of ascii values converts and joins chars\n",
    "        _string += chr(i) \n",
    "    return _string"
   ]
  },
  {
   "cell_type": "code",
   "execution_count": 9,
   "metadata": {},
   "outputs": [],
   "source": [
    "def Encode(n, e, message):\n",
    "    \"\"\"\n",
    "    Here, the message will be a string of characters.\n",
    "    Use the function Convert_Text from \n",
    "    the basic tool set and get a list of numbers.\n",
    "    \n",
    "    Encode each of these numbers using n and e and\n",
    "    return the encoded cipher_text.\n",
    "    \"\"\"\n",
    "    cipher_text = []\n",
    "    numbers = Convert_Text(message) # Converts char's to list of ascii values appends to list numbers\n",
    "    for m in numbers: \n",
    "        c = FME(m, e, n) # Fast mod Exponentiation quickly solves c = m ** e % n\n",
    "        cipher_text.append(c)\n",
    "    return cipher_text"
   ]
  },
  {
   "cell_type": "code",
   "execution_count": 10,
   "metadata": {},
   "outputs": [],
   "source": [
    "def Decode(n, d, cipher_text):\n",
    "    \"\"\"\n",
    "    Here, the cipher_text will be a list of integers.\n",
    "    First, you will decrypt each of those integers using \n",
    "    n and d.\n",
    "    \n",
    "    Later, you will need to use the function Convert_Num from the \n",
    "    basic toolset to recover the original message as a string. \n",
    "    \n",
    "    \"\"\"\n",
    "    plain_text = []\n",
    "    for c in cipher_text:\n",
    "        m = FME(c, d, n) # Fast mod Exponentiation quickly solves m = c ** d % n\n",
    "        plain_text.append(m)\n",
    "    message = Convert_Num(plain_text) # Iterates through plain_text joins chars together and assigns to message\n",
    "    return message"
   ]
  },
  {
   "cell_type": "markdown",
   "metadata": {
    "tags": []
   },
   "source": [
    "### <span style=\"color:DarkRed\">5.</span>  Create a Code Demo (10 points)\n",
    "<span style=\"color:DarkRed\">\n",
    "\n",
    "Construct a demonstration of your functions above. This will be a **step-by-step** guide to using your code with a specific example that we can follow using the functions you have created above **using a mix of code and Markdown blocks**. Choose your own \"Hello World\" type message or a favorite quote of your choosing to code and decode yourself.\n",
    " \n",
    "**This is essentially a test that demonstrates your code with a small walkthrough of how it works. You are simply calling the functions above. You are not using a main function or custom feature here.** Imagine this as a code interview scenario, and your interviewer/future boss wants a preliminary walkthrough of your work. Therefore, some text blocks are essential and helpful for your boss to follow your process. \n",
    "\n",
    "Note: You can change and add the type of cell block you are editing with the drop down menu above and go between Code and Markdown.\n",
    "\n",
    "**This is a mix of code blocks and text blocks** and must discuss all three parts for full credit. You must **show and explain your method and demonstrate (by calling your function as an example)** for generating keys and how your encoding and decoding functions work. \n",
    "\n",
    "For full credit: \n",
    "    \n",
    "* When you call FME, explain breifly why we can can't take the \"mod\" of our number using \"%\". \n",
    "* When you call the EEA, explain why this is so essential and really the key to RSA process.</span>\n",
    "\n"
   ]
  },
  {
   "cell_type": "markdown",
   "metadata": {},
   "source": [
    "* Demonstrate and explain how you Generate keys with code and text blocks."
   ]
  },
  {
   "cell_type": "markdown",
   "metadata": {},
   "source": [
    "### <span style=\"color:Orange\">A.</span> The first thing we need to do is generate our public keys (n, e).\n",
    "\n",
    "\n",
    "* First select two large distinct prime numbers p , q = 59 , 43 (For demo I have chosen small numbers.)\n",
    "* n = p x q or n = 59 x 43 = 2537\n",
    "* e can be any number that is relatively prime to (p-1)(q-1) To find this we use the Euclidean Alg.</span>"
   ]
  },
  {
   "cell_type": "code",
   "execution_count": 11,
   "metadata": {},
   "outputs": [
    {
     "name": "stdout",
     "output_type": "stream",
     "text": [
      "public key n: 2537\n",
      "public key e: 1025\n"
     ]
    }
   ],
   "source": [
    "n , e = Find_Public_Key_e(59,43)\n",
    "print(f'public key n: {n}\\npublic key e: {e}')"
   ]
  },
  {
   "cell_type": "markdown",
   "metadata": {},
   "source": [
    "\n",
    "\n",
    "* Now that we have our public keys we can find our private key d. This is done using the Extended Euclidean Algorithm to find the modular inverse of e.</span>"
   ]
  },
  {
   "cell_type": "code",
   "execution_count": 12,
   "metadata": {},
   "outputs": [
    {
     "name": "stdout",
     "output_type": "stream",
     "text": [
      "private key n: 2537\n",
      "private key d: 1685\n"
     ]
    }
   ],
   "source": [
    "d = Find_Private_Key_d(e, 59, 43)\n",
    "print(f'private key n: {n}\\nprivate key d: {d}')"
   ]
  },
  {
   "cell_type": "markdown",
   "metadata": {},
   "source": [
    "\n",
    "\n",
    "* Now we have our public (2537, 2423) and private keys (2537, 1499) and will be able to encode/decode messages.</span>"
   ]
  },
  {
   "cell_type": "markdown",
   "metadata": {},
   "source": [
    "* Demonstrate and explain how you encode a message with code and text blocks."
   ]
  },
  {
   "cell_type": "markdown",
   "metadata": {},
   "source": [
    "### <span style=\"color:Orange\">B.</span> The first thing we need to do is generate our public keys (n, e).\n",
    "\n",
    "\n",
    "* Next we will encode a message (m) \"The password is: abc123\"\n",
    "* We do this using the following formula: m^e modulo n = cipher (c)\n",
    "* The above formula is computationally taxing so instead we will use our fast modular exponentiation (FME) function which can perform the task faster.</span>"
   ]
  },
  {
   "cell_type": "code",
   "execution_count": 13,
   "metadata": {},
   "outputs": [
    {
     "name": "stdout",
     "output_type": "stream",
     "text": [
      "[1196, 1108, 814, 174, 321, 1761, 2370, 2370, 2184, 526, 562, 1156, 174, 921, 2370, 943, 174, 1761, 1363, 67, 2444, 1198, 942]\n"
     ]
    }
   ],
   "source": [
    "cipher_text = Encode(n, e, \"The password is: abc123\")\n",
    "print(cipher_text)"
   ]
  },
  {
   "cell_type": "markdown",
   "metadata": {},
   "source": [
    "\n",
    "\n",
    "And there it is our encrypted message! Each one of those numbers is a random character that would be unreadable to anyone who saw the message.</span>"
   ]
  },
  {
   "cell_type": "markdown",
   "metadata": {},
   "source": [
    "* Demonstrate and explain how you decode the same message with code and text blocks.\n"
   ]
  },
  {
   "cell_type": "markdown",
   "metadata": {},
   "source": [
    "### <span style=\"color:Orange\">C.</span> The first thing we need to do is generate our public keys (n, e).\n",
    "\n",
    "    \n",
    "* Now, to decode our message we need to utilize our private key d.\n",
    "* The formula for this would be c^d mod n = m (using FME) </span>"
   ]
  },
  {
   "cell_type": "code",
   "execution_count": 14,
   "metadata": {},
   "outputs": [
    {
     "name": "stdout",
     "output_type": "stream",
     "text": [
      "The password is: abc123\n"
     ]
    }
   ],
   "source": [
    "plaintext = Decode(n, d, cipher_text)\n",
    "print(plaintext)"
   ]
  },
  {
   "cell_type": "markdown",
   "metadata": {},
   "source": [
    "\n",
    "\n",
    "There we have it! Our message was encrypted, transmitted, and decrypted safely!"
   ]
  },
  {
   "cell_type": "markdown",
   "metadata": {},
   "source": [
    "### 6. Code Exchange Results (5 points) \n",
    "<span style=\"color:DarkRed\"> Now that your code is working and you are able read and write messages, include 3 complete examples of exchanging code (and exchange is both reading a message and responding) from Piazza here.  Both call your code and output code exchange results here. \n",
    "We are just looking to see which 3 codes you have exchanged in Piazza.</span>"
   ]
  },
  {
   "cell_type": "markdown",
   "metadata": {},
   "source": [
    "Example 1:\n",
    "\n",
    "n,e = 6059, 71 #Public key\n",
    "\n",
    "n,d = 6059, 4823  #Private key  \n",
    "\n",
    "[1434, 2223, 2479, 4178, 1914, 4400, 3330, 1914, 3325, 2223, 25, 2217, 1914, 2479, 3415, 5462, 1914, 1130, 25, 2925, 1914, 2687, 2925, 3415, 3415, 5462, 2411, 4178, 4574, 1130, 1914, 3374, 2411, 4178, 25, 3555, 1914, 876, 1914, 2687, 2479, 2411, 5563, 4178, 1914, 3325, 4178, 25, 1986, 1914, 2217, 2479, 4178, 2687, 2223, 3374, 2411, 3998, 1914, 125, 25, 2958, 5563, 3325, 1914, 125, 2925, 3415, 3998, 5462, 3415, 3325, 1914, 3415, 3374, 3998, 2223, 4178, 1914, 2411, 25, 2217, 5506]"
   ]
  },
  {
   "cell_type": "code",
   "execution_count": 15,
   "metadata": {},
   "outputs": [
    {
     "name": "stdout",
     "output_type": "stream",
     "text": [
      "What TV show are you currently into? I can't stop watching Bob's Burgers right now!\n"
     ]
    }
   ],
   "source": [
    "n,e = 6059, 71 #Public key\n",
    "n,d = 6059, 4823 #Private key\n",
    "plaintext = Decode(n, d, [1434, 2223, 2479, 4178, 1914, 4400, 3330, 1914, 3325, 2223, 25, 2217, 1914, 2479, 3415, 5462, 1914, 1130, 25, 2925, 1914, 2687, 2925, 3415, 3415, 5462, 2411, 4178, 4574, 1130, 1914, 3374, 2411, 4178, 25, 3555, 1914, 876, 1914, 2687, 2479, 2411, 5563, 4178, 1914, 3325, 4178, 25, 1986, 1914, 2217, 2479, 4178, 2687, 2223, 3374, 2411, 3998, 1914, 125, 25, 2958, 5563, 3325, 1914, 125, 2925, 3415, 3998, 5462, 3415, 3325, 1914, 3415, 3374, 3998, 2223, 4178, 1914, 2411, 25, 2217, 5506])\n",
    "print(plaintext)"
   ]
  },
  {
   "cell_type": "code",
   "execution_count": 16,
   "metadata": {},
   "outputs": [
    {
     "name": "stdout",
     "output_type": "stream",
     "text": [
      "[566, 1130, 1914, 2217, 3374, 1528, 5462, 1914, 2479, 2411, 3112, 1914, 876, 1914, 4574, 25, 1765, 5462, 1914, 4178, 2223, 5462, 1914, 5394, 3374, 3998, 2223, 4178, 5462, 25, 2925, 3325, 1914, 766, 5462, 4889, 3325, 4178, 25, 2411, 5462, 3325, 2363, 1914, 876, 4178, 1914, 2223, 2479, 3325, 1914, 4263, 2479, 2411, 2411, 1130, 1914, 566, 2687, 2958, 3415, 3374, 3112, 5462, 1914, 2479, 2411, 3112, 1914, 3374, 3325, 1914, 3415, 5462, 2479, 4574, 4574, 1130, 1914, 1528, 2925, 2411, 2411, 1130, 5506]\n"
     ]
    }
   ],
   "source": [
    "myresponse = Encode(n, e, \"My wife and I love the Righteous Gemstones. It has Danny Mcbride and is really funny!\")\n",
    "print(myresponse)"
   ]
  },
  {
   "cell_type": "markdown",
   "metadata": {},
   "source": [
    "Example 2: \n",
    "\n",
    "n, e = 36437, 35921           #Public Key\n",
    "\n",
    "n, d = 36437, 28733             #Private Key\n",
    "\n",
    "Message =[28414, 32539, 30036, 33410, 30036, 32392, 27635, 19942, 32392, 35842, 18874, 30036, 32392, 32662, 27635, 25684, 229, 27635, 35842, 18874, 13845, 24081, 32392, 5916, 24081, 13845, 25684, 30036, 32392, 1210, 35842, 9524, 32392, 34374, 35842, 9524, 24081, 11098, 32392, 24081, 27635, 5082, 30036, 32392, 229, 35842, 32392, 229, 33410, 13845, 24126, 30036, 24081, 32392, 229, 35842, 1974]"
   ]
  },
  {
   "cell_type": "code",
   "execution_count": 17,
   "metadata": {},
   "outputs": [
    {
     "name": "stdout",
     "output_type": "stream",
     "text": [
      "Where is one fictional place you would like to travel to?\n"
     ]
    }
   ],
   "source": [
    "n, e = 36437, 35921           #Public Key\n",
    "n, d = 36437, 28733           #Private Key\n",
    "Message =[28414, 32539, 30036, 33410, 30036, 32392, 27635, 19942, 32392, 35842, 18874, 30036, 32392, 32662, 27635, 25684, 229, 27635, 35842, 18874, 13845, 24081, 32392, 5916, 24081, 13845, 25684, 30036, 32392, 1210, 35842, 9524, 32392, 34374, 35842, 9524, 24081, 11098, 32392, 24081, 27635, 5082, 30036, 32392, 229, 35842, 32392, 229, 33410, 13845, 24126, 30036, 24081, 32392, 229, 35842, 1974]\n",
    "plaintext = Decode(n, d, Message)\n",
    "print(plaintext)"
   ]
  },
  {
   "cell_type": "code",
   "execution_count": 18,
   "metadata": {},
   "outputs": [
    {
     "name": "stdout",
     "output_type": "stream",
     "text": [
      "[3621, 35842, 17697, 34374, 13845, 33410, 229, 19942, 2362, 32392, 24915, 32392, 13845, 23996, 32392, 13845, 32392, 32539, 9524, 17697, 30036, 32392, 3621, 13845, 33410, 33410, 1210, 32392, 20590, 35842, 229, 229, 30036, 33410, 32392, 18874, 30036, 33410, 11098, 21052]\n"
     ]
    }
   ],
   "source": [
    "myresponse = Encode(n, e, \"Hogwarts, I am a huge Harry Potter nerd.\")\n",
    "print(myresponse)"
   ]
  },
  {
   "cell_type": "markdown",
   "metadata": {},
   "source": [
    "Example 3 (I posted first I asked if pineapple goes on pizza): \n",
    "\n",
    "n, e  = 17947 , 17669 # Public key\n",
    "\n",
    "n, d = 17947, 24109 # Private Key\n",
    "[4939, 14825, 3417, 759, 13124, 4553, 7700, 7150, 3417, 2058, 4553, 4553, 11007, 3417, 13124, 10324, 14825, 13124, 14825, 7150, 13124, 4553, 7700, 9076, 9076, 2058, 14449, 13124, 7668, 13124, 759, 2058, 10079, 13124, 10079, 3417, 759, 13124, 7700, 14275, 13124, 17225, 14825, 3417, 759, 15761]"
   ]
  },
  {
   "cell_type": "code",
   "execution_count": 19,
   "metadata": {},
   "outputs": [
    {
     "name": "stdout",
     "output_type": "stream",
     "text": [
      "Of course, along with ham and even some hot honey!\n",
      "Good question. I have always struggled with pineapple on pizza in the standard form of pineapple ham and a red sause. That said I do enjoy a bbq sause and pineapple flatbread with poblanos, and motzzarella\n"
     ]
    }
   ],
   "source": [
    "n, e  = 17947 , 17669 # Public key\n",
    "n, d = 17947, 24109 # Private Key\n",
    "classmate_response1 = [2929, 16683, 13124, 4954, 14825, 938, 4837, 759, 3417, 6978, 13124, 2058, 11007, 14825, 7150, 10324, 13124, 7591, 7700, 14275, 6581, 13124, 6581, 2058, 6789, 13124, 2058, 7150, 17225, 13124, 3417, 11217, 3417, 7150, 13124, 759, 14825, 6789, 3417, 13124, 6581, 14825, 14275, 13124, 6581, 14825, 7150, 3417, 10079, 13832]\n",
    "classmate_response2 = [12251, 14825, 14825, 17225, 13124, 12376, 938, 3417, 759, 14275, 7700, 14825, 7150, 15761, 13124, 7668, 13124, 6581, 2058, 11217, 3417, 13124, 2058, 11007, 7591, 2058, 10079, 759, 13124, 759, 14275, 4837, 938, 10324, 10324, 11007, 3417, 17225, 13124, 7591, 7700, 14275, 6581, 13124, 4553, 7700, 7150, 3417, 2058, 4553, 4553, 11007, 3417, 13124, 14825, 7150, 13124, 4553, 7700, 9076, 9076, 2058, 13124, 7700, 7150, 13124, 14275, 6581, 3417, 13124, 759, 14275, 2058, 7150, 17225, 2058, 4837, 17225, 13124, 16683, 14825, 4837, 6789, 13124, 14825, 16683, 13124, 4553, 7700, 7150, 3417, 2058, 4553, 4553, 11007, 3417, 13124, 6581, 2058, 6789, 13124, 2058, 7150, 17225, 13124, 2058, 13124, 4837, 3417, 17225, 13124, 759, 2058, 938, 759, 3417, 15761, 13124, 7842, 6581, 2058, 14275, 13124, 759, 2058, 7700, 17225, 13124, 7668, 13124, 17225, 14825, 13124, 3417, 7150, 8303, 14825, 10079, 13124, 2058, 13124, 16429, 16429, 12376, 13124, 759, 2058, 938, 759, 3417, 13124, 2058, 7150, 17225, 13124, 4553, 7700, 7150, 3417, 2058, 4553, 4553, 11007, 3417, 13124, 16683, 11007, 2058, 14275, 16429, 4837, 3417, 2058, 17225, 13124, 7591, 7700, 14275, 6581, 13124, 4553, 14825, 16429, 11007, 2058, 7150, 14825, 759, 6978, 13124, 2058, 7150, 17225, 13124, 6789, 14825, 14275, 9076, 9076, 2058, 4837, 3417, 11007, 11007, 2058]\n",
    "plaintext = Decode(n, d, classmate_response1)\n",
    "plaintext2 = Decode(n, d, classmate_response2)\n",
    "print(plaintext)\n",
    "print(plaintext2)"
   ]
  },
  {
   "cell_type": "code",
   "execution_count": 20,
   "metadata": {},
   "outputs": [
    {
     "name": "stdout",
     "output_type": "stream",
     "text": [
      "[7668, 13124, 7591, 7700, 11007, 11007, 13124, 4954, 14825, 938, 7150, 14275, 13124, 14275, 6581, 3417, 13124, 16683, 11007, 2058, 14275, 16429, 4837, 3417, 2058, 17225, 13124, 2058, 759, 13124, 2058, 13124, 4553, 7700, 9076, 9076, 2058, 15761, 13124, 10838, 3417, 13124, 7150, 14825, 7591, 13124, 759, 6581, 2058, 4837, 3417, 13124, 2058, 13124, 16429, 14825, 7150, 17225, 13124, 11217, 7700, 2058, 13124, 4553, 7700, 9076, 9076, 2058, 13124, 14275, 14825, 4553, 4553, 7700, 7150, 10324, 759, 13124, 759, 14275, 4837, 14825, 7150, 10324, 3417, 4837, 13124, 14275, 6581, 2058, 7150, 13124, 2058, 11007, 11007, 13124, 14825, 14275, 6581, 3417, 4837, 13124, 16429, 14825, 7150, 17225, 759, 15761, 13124, 7668, 13124, 7591, 7700, 11007, 11007, 13124, 4837, 7700, 17225, 3417, 13124, 7700, 7150, 14275, 14825, 13124, 16429, 2058, 14275, 14275, 11007, 3417, 13124, 7591, 7700, 14275, 6581, 13124, 3417, 2058, 4954, 6581, 13124, 14825, 16683, 13124, 10079, 14825, 938]\n"
     ]
    }
   ],
   "source": [
    "n, e  = 17947 , 17669 # Public key\n",
    "n, d = 17947, 24109 # Private Key\n",
    "myresponse = Encode(n, e, \"I will count the flatbread as a pizza. We now share a bond via \" \n",
    "                    \"pizza toppings stronger than all other bonds. I will ride into battle with each of you\")\n",
    "print(myresponse)"
   ]
  },
  {
   "cell_type": "markdown",
   "metadata": {},
   "source": [
    "### 7. Write a Narrative (25 points) \n",
    "<span style=\"color:DarkRed\">TWO pages of meaningful narrative about your process - not including the examples -  (800 words) here in this block. Include specifc examples of debugging an challenges referencing your individual process. Responses that are vague, lacking in specific and individual details, or sound like CHatGPT will not recive full credit. Include the following:\n",
    "\n",
    "* Describe your process. Did you plan ahead? Did you wing it? What have you learned about your own process? \n",
    "* Describe the results of exchanging keys and codes with classmates. Did it work the first time or did you need to make adjustments?<span style = \"color:white\">  Use the word fortitude\n",
    "\n",
    "* What was most challenging? <span style = \"color:white\">  Use a cooking metaphor.\n",
    "\n",
    "* Who helped you with your project?  Which resources were most helpful?\n",
    "\n",
    "* What was your Best Mistake? (funniest? most frustrating? the one you learned the most from?)</span>"
   ]
  },
  {
   "cell_type": "markdown",
   "metadata": {
    "tags": []
   },
   "source": [
    "## The Process\n",
    "The RSA project was a rewarding experience that allowed for exploration and experimentation. This freedom really influenced my approach to completing each task. Some of the tasks such as the Euclidean algorithm or Extended Euclidean algorithm were very straight forward so I just followed the algorithm in place. Whereas, other tasks such as FME or Find_Public_Key_e provided freedom. During the more open tasks I tested all sorts of theories and researched a ton of topics such as, could I use a greedy algorithm to accomplish square and mod, what is the best choice for e, and how can I make this my own? In some cases my theories led to either nothing or a solution that was extremely slow. In others, such as the optimal solution for e I was able to create a script that did exactly what I wanted. However, what I found to be the most rewarding was how much I learned while exploring these dead-end rabbit-holes. For example, I researched and built a greedy algorithm, I found a way to implement the Sieve of Eratosthenes into my program to find prime numbers, and I learned about different python libraries. From the outside looking in this would all look like a waste of time. However, my sporadic approach has made me a much better programmer and has increased my thirst for knowledge.\n",
    "\n",
    "## Results\n",
    "The coding exchange went extremely well. I was able to encode and decode messages very easily. Then, I tried to build Fermat’s Factorization Algorithm. It worked spectacularly for the code given by my classmates. However, when I tested my solution for it against large values of n it produced the incorrect results. I am not sure if my implementation of the algorithm was incorrect or if that is just the nature of the algorithm which is said to be effective when the difference of p and q is less than 2^514. Regardless, it was easy to transition back to the original factorization algorithm and implement that into my main function while I correct my implementation of Fermat.\n",
    "\n",
    "## Most Challenging\n",
    "The most challenging part of the project was finding a way to locate a public key e that had a low hamming weight and met the other conditions required of e. This was a self-inflicted problem, but I really wanted to find the solution to this challenge. Initially, I created a method to create a list of valid e’s. Once created I would then iterate through that list convert each number to binary then use the count() function to determine the hamming weight. This worked, but it was inefficient. I implemented a hard-coded e 65537 to use in cases where n was so large that the function would run poorly. However, I hated that solution. \n",
    "\n",
    "Then it clicked, I was trying to correct my fast modular exponentiation function and I noticed a key point in Professor Sriram’s algorithm. He was only multiplying the one bits. The fastest way to find a number with the appropriate hamming weight was to take advantage of the powers of two. Each power of two has a hamming weight of one, therefore if I made my function to find the powers of two that are less than (p-1)(q-1) and simply add 1 to them I would have a list of numbers that had a hamming weight of two. From there all I needed to do was confirm that they were relatively prime to (p-1)(q-1) and they could be considered a valid e. After that I selected the largest e from the list with the lowest possible hamming weight and it was successful.\n",
    "\n",
    "## Who helped you? Which resources were the most helpful?\n",
    "The best resource for working through each of the functions throughout this project were the lectures on Moodle. Professor Sriram, Professor Stade, and Professor Ketelsen’s lectures laid out a preponderance of the algorithms and concepts very clearly which made creating this project akin to following a recipe and then adding my own twists where applicable. I enlisted the help of my wife to attempt break my main function. She is not familiar with any programming language and is unfamiliar with RSA. This made her the perfect end-user guinea pig to validate that my script was user-friendly, could perform any task encryption task she wanted to perform, and that the instructions were clear enough that it was unlikely that she would make a mistake. Using her also put my try and except statements to work catching any error she caused and bringing her back to the beginning so she can correct it. \n",
    "\n",
    "## What was your best mistake?\n",
    "A lot of mistakes were made throughout the construction of this project. Some were easy and fixed quickly, some were hard and took a while to fix, and some were easy and still took a while to fix. Perhaps the most frustrating came with my Fermat Factorization algorithm. It is a pretty simple formula: \n",
    "\n",
    "    a = floor(sqrt(n))\n",
    "    b^2 = a^2 - n\n",
    "    p, q = a + b, a - b\n",
    "\n",
    "However, when it came time to implement this algorithm to my script it became extremely difficult. The issue was that you need to confirm that b is a perfect square. So, the function needed to check that the difference of a^2 - n was positive and that the square root of a^2 - n was a perfect square. Initially, I created a check to find that the difference of a^2 - n was positive and that b was not a float. However, the obvious problem that I overlooked was when I incremented a  it would stop once the difference of a^2 - n was not negative. I stared at this issue in disgust for at least thirty minutes only to realize the very simple issue—there was no check that the square root of my equation was not a float. It took about twenty seconds to write the solution to an extremely frustrating problem. My implementation of Fermat's algorithm is still not complete, however it is now much closer after solving this. If this narrative was longer it would include a dissertation on the efficacy of taking a minute away from your project and then approaching it with a fresh set of eyes."
   ]
  },
  {
   "cell_type": "markdown",
   "metadata": {
    "tags": []
   },
   "source": [
    "### 8. How to Break Code. (10 points)\n",
    "\n",
    "<span style=\"color:DarkRed\">\n",
    "\n",
    "\n",
    "**This section (and section 9 and 10) of the project is only available to students exchanging codes by the Friday (midnight) before the project is due.**\n",
    "\n",
    "**Implementing a factoring algorithm:**\n",
    "\n",
    "Begin by coding the basic brute force factorization algorithm given in pseudocode below.\n",
    "\n",
    "Brute Force Factoring\n",
    "<pre><code>def factorize(n):\n",
    "    # n is a number, return the smallest factor of n\n",
    "    for i from 2 to n-1:\n",
    "        if i divides n:\n",
    "            return i\n",
    "        return FALSE\n",
    "        </code></pre>"
   ]
  },
  {
   "cell_type": "code",
   "execution_count": 21,
   "metadata": {},
   "outputs": [],
   "source": [
    "def factorize(n):\n",
    "    for i in range(2, n - 1):\n",
    "        # Finds the smallest prime factor of n\n",
    "        if n % i == 0:\n",
    "            return i\n",
    "    return False"
   ]
  },
  {
   "cell_type": "markdown",
   "metadata": {},
   "source": [
    "<span style=\"color:DarkRed\"> After you have tested your RSA package yourself, and tested it with classmates by publishing both the private and public keys on Piazza, post 2 messages with just the public keys for people to break on the \"Just Public Keys\" thread - use both very small n ‘s (under 1000) for practice. Feel free to come up with n's that create a challenge.\n",
    "        \n",
    "* Explain in detail how breaking works in this section using markdown blocks. Demo a short example with a small n. What are the complete steps? What tools do you need? <span style = \"color:white\">  Use a sports metaphor.\n",
    "* Try brute forcing a larger value of n, say 15-18 digits long. What do you notice? (If this is taking a while, just ride it out, or Ctrl+C will KeyboardInterrupt the cell block). Provide a sample large n that will take ~3-5 min to crack. \n",
    "    * Optional Challenge: Consider illustrating this with python math and time modules. matplotlib and time are good examples. Documentation is available.\n",
    "* How secure is RSA? Why is it difficult to break codes in RSA? \n",
    "* Is our implementation of RSA secure? What are it's flaws? </span>"
   ]
  },
  {
   "cell_type": "markdown",
   "metadata": {},
   "source": [
    "### <span style=\"color:Orange\">D.</span> How to break code with a demo.\n",
    "\n",
    "RSA is very dependent on the primes you select and the ability to keep all information besides your public key hidden. Lets say an individual chose small prime numbers for p and q: 59, 43. This gives us an n = 2537. Using our Euclidean Algorithm we would know that e = 13 is sufficient making our public key (2537, 13). Using our same secret message: \"The password is: abc123\" We would get the following encrypted message:\n"
   ]
  },
  {
   "cell_type": "code",
   "execution_count": 22,
   "metadata": {},
   "outputs": [
    {
     "name": "stdout",
     "output_type": "stream",
     "text": [
      "[666, 803, 1342, 1544, 933, 1552, 2512, 2512, 650, 1648, 1453, 197, 1544, 794, 2512, 353, 1544, 1552, 1508, 533, 2199, 437, 2263]\n"
     ]
    }
   ],
   "source": [
    "n, e = 2537, 13\n",
    "secret = Encode(n, e, \"The password is: abc123\")\n",
    "print(secret)"
   ]
  },
  {
   "cell_type": "markdown",
   "metadata": {},
   "source": [
    "\n",
    "Great we have an encrypted message this message would only be decrypted using our recipients private key which is:"
   ]
  },
  {
   "cell_type": "code",
   "execution_count": 23,
   "metadata": {},
   "outputs": [
    {
     "name": "stdout",
     "output_type": "stream",
     "text": [
      "937\n"
     ]
    }
   ],
   "source": [
    "p, q = 59, 43\n",
    "d = Find_Private_Key_d(e, p, q)\n",
    "print(d)"
   ]
  },
  {
   "cell_type": "markdown",
   "metadata": {},
   "source": [
    "\n",
    "Now lets switch to the role of an attacker. We know the target's public key is (2537, 13). Now, we need to find a way to decrypt the encrypted secret message. We will do this using prime factorization.\n",
    "    \n",
    "Every number can be written as the product of one or more primes. This is someting we can exploit for the public key n which we know via google is the product of two prime numbers. Using our factorize() function we can search for the smallest factor of n we will call this q for future readability."
   ]
  },
  {
   "cell_type": "code",
   "execution_count": 24,
   "metadata": {},
   "outputs": [
    {
     "name": "stdout",
     "output_type": "stream",
     "text": [
      "43\n"
     ]
    }
   ],
   "source": [
    "q = factorize(2537)\n",
    "print(q)"
   ]
  },
  {
   "cell_type": "markdown",
   "metadata": {},
   "source": [
    "\n",
    "To find p all we need to do is 2537 / 43 which is 59. Now we have all of the ingredients needed to steal the private key d and crack the targets message. I will put the full product in this block to demonstrate speed:"
   ]
  },
  {
   "cell_type": "code",
   "execution_count": 25,
   "metadata": {},
   "outputs": [
    {
     "name": "stdout",
     "output_type": "stream",
     "text": [
      "The password is: abc123\n"
     ]
    }
   ],
   "source": [
    "n, e = 2537, 13\n",
    "q = factorize(2537)\n",
    "p = n / q\n",
    "d = Find_Private_Key_d(e, p, q)\n",
    "print(Decode(n, d, secret))"
   ]
  },
  {
   "cell_type": "markdown",
   "metadata": {},
   "source": [
    "\n",
    "This highlights the importance of choosing large prime numbers for p and q. Lets do the same exercise but with p, q = 200560490131 ,  27644437: "
   ]
  },
  {
   "cell_type": "code",
   "execution_count": 26,
   "metadata": {},
   "outputs": [
    {
     "name": "stdout",
     "output_type": "stream",
     "text": [
      "27644437\n"
     ]
    }
   ],
   "source": [
    "p, q = 200560490131 , 27644437\n",
    "n = p * q\n",
    "q = factorize(n)\n",
    "print(q)"
   ]
  },
  {
   "cell_type": "markdown",
   "metadata": {},
   "source": [
    "\n",
    "We see that the program begins to slow down. The n we chose is still not a sufficient size however. Take this example:\n"
   ]
  },
  {
   "cell_type": "code",
   "execution_count": 27,
   "metadata": {},
   "outputs": [],
   "source": [
    "p, q = 35742549198872617291353508656626642567, 27644437\n",
    "n = p * q # Delete the # when you want to test the factorize\n",
    "#print(factorize(n))"
   ]
  },
  {
   "cell_type": "markdown",
   "metadata": {},
   "source": [
    "\n",
    "We see now that n is far to large for the factorization algorithm to identify p and q in a timely manner."
   ]
  },
  {
   "cell_type": "markdown",
   "metadata": {
    "tags": []
   },
   "source": [
    "### 9. Code Breaking: Complete Examples (5 points)\n",
    "\n",
    "<span style=\"color:DarkRed\">\n",
    "\n",
    "* Decode one example from Piazza in detail showing all the steps. Use a combination of code and markdown blocks.\n",
    "* Decode and Respond to 3 \"just codes with public keys\" in Piazza with different sizes of n. Include complete results here - you may just show the results here.</span>\n"
   ]
  },
  {
   "cell_type": "markdown",
   "metadata": {},
   "source": [
    "\n",
    "First example:\n",
    "n, e = 703, 113.  #Public Key\n",
    "\n",
    "Cipher = [544, 472, 233, 242, 250, 555, 591, 550, 376, 364, 210, 165, 526, 47, 555, 95, 476, 210, 242, 165, 95, 233, 526, 210, 376, 95, 233, 242, 364, 210, 242, 224, 376, 95, 364, 233, 47, 242, 210, 555, 376, 165, 472, 242, 555, 410, 242, 250, 95, 233, 233, 47, 145]\n",
    "    \n",
    "The first thing we do is call our factorize(n) function. I will give the result as q for readability, because it will find the smallest factor."
   ]
  },
  {
   "cell_type": "code",
   "execution_count": 28,
   "metadata": {},
   "outputs": [
    {
     "name": "stdout",
     "output_type": "stream",
     "text": [
      "19\n"
     ]
    }
   ],
   "source": [
    "n, e = 703, 113. #Public Key\n",
    "q = factorize(n)\n",
    "print(q)"
   ]
  },
  {
   "cell_type": "markdown",
   "metadata": {},
   "source": [
    "\n",
    "Now that we have q we can deteremine p by dividing n and q. From there we have everything we need to find the modular inverse of e which is our targets private key:"
   ]
  },
  {
   "cell_type": "code",
   "execution_count": 29,
   "metadata": {},
   "outputs": [
    {
     "name": "stdout",
     "output_type": "stream",
     "text": [
      "281.0\n"
     ]
    }
   ],
   "source": [
    "p = n / q\n",
    "d = Find_Private_Key_d(e, p, q)\n",
    "print(d)"
   ]
  },
  {
   "cell_type": "markdown",
   "metadata": {},
   "source": [
    "\n",
    "Now we can decode the message:"
   ]
  },
  {
   "cell_type": "code",
   "execution_count": 30,
   "metadata": {},
   "outputs": [
    {
     "name": "stdout",
     "output_type": "stream",
     "text": [
      "The Conquistador's treasure is buried south of Creed.\n"
     ]
    }
   ],
   "source": [
    "Cipher = [544, 472, 233, 242, 250, 555, 591, 550, 376, 364, 210, 165, 526, 47, 555, 95, 476, 210, 242, 165, 95, 233, 526, 210, 376, 95, 233, 242, 364, 210, 242, 224, 376, 95, 364, 233, 47, 242, 210, 555, 376, 165, 472, 242, 555, 410, 242, 250, 95, 233, 233, 47, 145]\n",
    "stolen_message = Decode(n, d, Cipher)\n",
    "print(stolen_message)"
   ]
  },
  {
   "cell_type": "markdown",
   "metadata": {},
   "source": [
    "\n",
    "Three more examples:"
   ]
  },
  {
   "cell_type": "code",
   "execution_count": 31,
   "metadata": {},
   "outputs": [
    {
     "name": "stdout",
     "output_type": "stream",
     "text": [
      "I found the gold!\n",
      "Can you share the gold with me matt?\n"
     ]
    }
   ],
   "source": [
    "Matts_Cipher = [517, 242, 410, 555, 376, 591, 47, 242, 165, 472, 233, 242, 88, 555, 90, 47, 86]\n",
    "My_Response = [250, 526, 591, 242, 581, 555, 376, 242, 210, 472, 526, 95, 233, 242, 165, 472, 233, 242, 88, 555, 90, 47, 242, 541, 364, 165, 472, 242, 523, 233, 242, 523, 526, 165, 165, 195]\n",
    "n, e = 703, 113. #Public Key\n",
    "q = factorize(n)\n",
    "p = n / q\n",
    "d = Find_Private_Key_d(e, p, q)\n",
    "print(Decode(n, d, Matts_Cipher))\n",
    "print(Decode(n, d, My_Response))"
   ]
  },
  {
   "cell_type": "code",
   "execution_count": 32,
   "metadata": {},
   "outputs": [
    {
     "name": "stdout",
     "output_type": "stream",
     "text": [
      "The best thing about a Boolean is even if you are wrong, you are only off by a bit.\n",
      "The last statement == True!\n"
     ]
    }
   ],
   "source": [
    "Cravens_Cipher = [85308, 48594, 15927, 71285, 61037, 15927, 767, 23406, 71285, 23406, 48594, 12676, 37298, 100459, 71285, 90170, 61037, 38946, 38783, 23406, 71285, 90170, 71285, 113492, 38946, 38946, 86792, 15927, 90170, 37298, 71285, 12676, 767, 71285, 15927, 121493, 15927, 37298, 71285, 12676, 84628, 71285, 29228, 38946, 38783, 71285, 90170, 110238, 15927, 71285, 81798, 110238, 38946, 37298, 100459, 126494, 71285, 29228, 38946, 38783, 71285, 90170, 110238, 15927, 71285, 38946, 37298, 86792, 29228, 71285, 38946, 84628, 84628, 71285, 61037, 29228, 71285, 90170, 71285, 61037, 12676, 23406, 10510]\n",
    "My_Response = [85308, 48594, 15927, 71285, 86792, 90170, 767, 23406, 71285, 767, 23406, 90170, 23406, 15927, 75888, 15927, 37298, 23406, 71285, 37771, 37771, 71285, 85308, 110238, 38783, 15927, 124788]\n",
    "n, e = 130177, 13 #Public Key\n",
    "q = factorize(n)\n",
    "p = n / q\n",
    "d = Find_Private_Key_d(e, p, q)\n",
    "print(Decode(n, d, Cravens_Cipher))\n",
    "print(Decode(n, d, My_Response))"
   ]
  },
  {
   "cell_type": "code",
   "execution_count": 33,
   "metadata": {},
   "outputs": [
    {
     "name": "stdout",
     "output_type": "stream",
     "text": [
      "Travis Hunter for Heisman!\n",
      "Ashton Jeanty!  just kidding, go Travis!\n",
      "Ashton Jeanty is a beast as well! I have just never seen a player play both ways like Travis.\n"
     ]
    }
   ],
   "source": [
    "n , e = 391, 349 # Public Keys\n",
    "\n",
    "my_init_post = [203, 252, 99, 305, 301, 115, 36, 259, 325, 315, 277, 220, 252, 36, 136, 382, 252, 36, 259, 220, 301, 115, 74, 99, 315, 67]\n",
    "mitchells_response = [175, 115, 100, 277, 382, 315, 36, 214, 220, 99, 315, 277, 202, 67, 36, 36, 378, 325, 115, 277, 36, 88, 301, 257, 257, 301, 315, 222, 181, 36, 222, 382, 36, 203, 252, 99, 305, 301, 115, 67]\n",
    "my_response = [175, 115, 100, 277, 382, 315, 36, 214, 220, 99, 315, 277, 202, 36, 301, 115, 36, 99, 36, 64, 220, 99, 115, 277, 36, 99, 115, 36, 170, 220, 265, 265, 67, 36, 377, 36, 100, 99, 305, 220, 36, 378, 325, 115, 277, 36, 315, 220, 305, 220, 252, 36, 115, 220, 220, 315, 36, 99, 36, 385, 265, 99, 202, 220, 252, 36, 385, 265, 99, 202, 36, 64, 382, 277, 100, 36, 170, 99, 202, 115, 36, 265, 301, 88, 220, 36, 203, 252, 99, 305, 301, 115, 184]\n",
    "q = factorize(n)\n",
    "p = n / q\n",
    "d = Find_Private_Key_d(e, p, q)\n",
    "print(Decode(n, d, my_init_post))\n",
    "print(Decode(n, d, mitchells_response))\n",
    "print(Decode(n, d, my_response))"
   ]
  },
  {
   "cell_type": "markdown",
   "metadata": {},
   "source": [
    "\n",
    "### 10. Custom CODE Feature  (10 points) ##\n",
    "<span style=\"color:DarkRed\">- The custom feature should be a \"Stand Alone\" feature at the end of the notebook. \n",
    "- If you need  to use code from above, please copy the entire package and functions again as part of your feature so it can be tested independently. \n",
    "- You may remove the give code comments in this section.\n",
    "- Be sure to provide a demonstration showing that it works. See RSA Guide for more information and suggestions. \n",
    "- Include a narrative describing your project.\n",
    "- All custom features must include a narrative explaining the features and all code must be commented.</span>\n",
    "\n",
    "**Do not forget the self-grading element.**\n"
   ]
  },
  {
   "cell_type": "markdown",
   "metadata": {},
   "source": [
    "\n",
    "\n",
    "My custom feature is main function, RSA(), that allows a user to perform the following actions: Encode, Decode, Break code, Generate and display public keys, Generate and display all keys. The function is designed to not stop unless the user tells it to stop. This feature allows the user to perform every action they would want to perform in a user-friendly environment. The function also has error preventions in place to prevent non-prime numbers from being entered and invalid inputs from being entered. The code is ran by you the user so the following is instructions to test the code, however, you can use it however you want:\n",
    "\n",
    "* First, Generate all your keys. Type Generate All Keys, then type n ,then type 59, then type 43. You will get n = 2537, e = 1025, d = 1685.\n",
    "* Next, Encode a message. Type Encode, then type \"P\", then enter 2537, then enter 1025, then type \"The RSA project was really fun!\n",
    "* You will get an encrypted message in the form of a list. Copy that list but do not include the brackets (THIS IS IMPORTANT)\n",
    "* Next, Decode the message you just made. Type Decode, then type Y, then type 2537, 1025, 1685, then paste your encrypted message (AGAIN DO NOT INCLUDE BRACKETS) \n",
    "* Finally, lets BreakCode. Type Break code. It is going to ask you for public keys, Just use the same ones from earlier. Then copy and paste this: 1961, 526, 1002, 174, 2184, 921, 1618, 1618, 174, 2476, 814, 1593, 814, 562, 174, 453, 814, 965, 174, 965, 1108, 921, 2370, 174, 1906, 814, 2370, 2370, 1761, 453, 814\n",
    "    \n",
    "* Click enter and you should see \"You will never get this message\"\n",
    "* Then type Q to quit! </span>"
   ]
  },
  {
   "cell_type": "code",
   "execution_count": 34,
   "metadata": {},
   "outputs": [
    {
     "name": "stdin",
     "output_type": "stream",
     "text": [
      "What do you want to do? Type Encode, Decode, BreakCode, Generate Public Key Only, Generate All Keys, Q to quit:  Encode\n",
      "Do you already have keys? Y, P for only public, or any key for no:  29\n",
      "Enter a large prime number or type 0 to quit:  17\n",
      "Enter another large prime number or type 0 to quit:  29\n",
      "Please enter message to encode:  Cheddar is a handsome doggy!\n"
     ]
    },
    {
     "name": "stdout",
     "output_type": "stream",
     "text": [
      "Your encrypted message: [237, 104, 135, 151, 151, 182, 403, 185, 479, 115, 185, 182, 185, 104, 182, 25, 151, 115, 94, 245, 135, 185, 151, 94, 52, 52, 138, 67]\n"
     ]
    },
    {
     "name": "stdin",
     "output_type": "stream",
     "text": [
      "What do you want to do? Type Encode, Decode, BreakCode, Generate Public Key Only, Generate All Keys, Q to quit:  Q\n"
     ]
    },
    {
     "name": "stdout",
     "output_type": "stream",
     "text": [
      "Good bye\n"
     ]
    }
   ],
   "source": [
    "from sympy import isprime\n",
    "import math\n",
    "\n",
    "def FME(b, n, m):\n",
    "    result = 1\n",
    "    square = b\n",
    "    # Binary Expansion of n\n",
    "    while n > 0:\n",
    "        k = n % 2\n",
    "        # Only multiplies the 1 bits of n\n",
    "        if k == 1:\n",
    "            result = (result * square) % m\n",
    "        square = (square * square) % m\n",
    "        n = n//2\n",
    "    return result\n",
    "\n",
    "def Euclidean_Alg(a, b):\n",
    "    while b > 0:  # Condition check for the value of n.\n",
    "        k = a % b  # K will eventually be the new value of n\n",
    "        a = b  # Used to perform the next step of Euclid's algorithm. Keeps largest value to the left.\n",
    "        b = k  # Resets n's value until n = 0\n",
    "    return a\n",
    "\n",
    "def EEA(a, b):\n",
    "    (s1, t1) = (1, 0)  # Init values to find Bezout Coeff. later\n",
    "    (s2, t2) = (0, 1)\n",
    "    while b > 0:  # Condition check for the value of n.\n",
    "        k = a % b  # K will eventually be the new value of n\n",
    "        q = a // b  # Quotient used later for (s2, t2)\n",
    "        # Begin process for Bezout coeff.\n",
    "        a = b  # Used to perform the next step of Euclid's algorithm. Keeps largest value to the left.\n",
    "        b = k  # Resets n's value until n = 0\n",
    "        (s1_hat, t1_hat) = (s2, t2)\n",
    "        (s2_hat, t2_hat) = ((s1 - q * s2), (t1 - q * t2))  # Our formula to eventually find Bezout coeff.\n",
    "        (s2, t2) = (s2_hat, t2_hat)\n",
    "        (s1, t1) = (s1_hat, t1_hat)\n",
    "    return a, (s1, t1)\n",
    "    \n",
    "    \n",
    "\n",
    "def Find_Public_Key_e(p, q):\n",
    "    # public Key n\n",
    "    n = p * q\n",
    "    # Used to find our value e must be less than.\n",
    "    phi_n = (p - 1) * (q - 1)\n",
    "    # For time if n is 12 digits or greater e will equal 65537 as long as gcd(n, 65537) = 1\n",
    "    x = 1\n",
    "    valid_e = []\n",
    "    # Loop that will always find an exponent e with a hamming weight of 2\n",
    "    while phi_n > x:\n",
    "        x = x * 2\n",
    "        y = x + 1\n",
    "        if Euclidean_Alg(y, phi_n) == 1 and y < phi_n:\n",
    "            valid_e.append(y)\n",
    "            e = max(valid_e)\n",
    "    return n, e\n",
    "\n",
    "def Find_Private_Key_d(e, p, q):\n",
    "    phi_n = (p - 1) * (q - 1)\n",
    "    d = (EEA(phi_n, e)[1][1])# Finds modular inverse of e. Ensures d is positive.\n",
    "    if d < 0:\n",
    "        d = d + phi_n # Ensures d is positive.\n",
    "    return d\n",
    "\n",
    "def Convert_Text(_string):\n",
    "    integer_list = []\n",
    "    for letter in _string: # Creates a list of ascii values for respective char\n",
    "        integer_list.append(ord(letter))\n",
    "    return integer_list\n",
    "\n",
    "def Convert_Num(_list):\n",
    "    _string = ''\n",
    "    for i in _list: # Iterates through list of ascii values converts and joins chars\n",
    "        _string += chr(i) \n",
    "    return _string\n",
    "\n",
    "def Encode(n, e, message):\n",
    "    cipher_text = []\n",
    "    numbers = Convert_Text(message) # Converts char's to list of ascii values appends to list numbers\n",
    "    for m in numbers: \n",
    "        c = FME(m, e, n) # Fast mod Exponentiation quickly solves c = m ** e % n\n",
    "        cipher_text.append(c)\n",
    "    return cipher_text\n",
    "\n",
    "def Decode(n, d, cipher_text):\n",
    "    plain_text = []\n",
    "    for c in cipher_text:\n",
    "        m = FME(c, d, n) # Fast mod Exponentiation quickly solves m = c ** d % n\n",
    "        plain_text.append(m)\n",
    "    message = Convert_Num(plain_text) # Iterates through plain_text joins chars together and assigns to message\n",
    "    return message\n",
    "\n",
    "def factorize(n):\n",
    "    for i in range(2, n - 1):\n",
    "        # Finds the smallest prime factor of n\n",
    "        if n % i == 0:\n",
    "            return i\n",
    "    return False\n",
    "\n",
    "\n",
    "def RSA():\n",
    "    # Make it a running program until they quit\n",
    "    done = False\n",
    "    while not done:\n",
    "        try:\n",
    "            # Determine user purpose\n",
    "            init_prompt = input(\"What do you want to do? Type Encode, Decode, BreakCode, Generate Public Key Only, \"\n",
    "                                \"Generate All Keys, Q to quit: \")\n",
    "            if init_prompt == \"Encode\":\n",
    "                key_question = input(\"Do you already have keys? Y, P for only public, or any key for no: \")\n",
    "                # Checks to determine if user needs to make keys.\n",
    "                if key_question == \"Y\":\n",
    "                    public_keys = int(input(\"Enter public key n: \")), int(input(\"Enter private key e: \"))\n",
    "                    n, e = public_keys\n",
    "                    d = int(input(\"Enter private key d: \"))\n",
    "                elif key_question == \"P\":\n",
    "                    public_keys = int(input(\"Enter public key n: \")), int(input(\"Enter private key e: \"))\n",
    "                    n, e = public_keys\n",
    "                elif key_question == \"Q\":\n",
    "                    done = True\n",
    "                    goodbye = \"Good bye\"\n",
    "                    return goodbye\n",
    "                else:\n",
    "                    # Prime number check\n",
    "                    good_inputs = False\n",
    "                    while not good_inputs:\n",
    "                        # Take in user prime numbers.\n",
    "                        p = int(input(\"Enter a large prime number or type 0 to quit: \"))\n",
    "                        q = int(input(\"Enter another large prime number or type 0 to quit: \"))\n",
    "                        # Sentinel for prime numbers\n",
    "                        if p == 0 or q == 0:\n",
    "                            done = True\n",
    "                            goodbye = \"Good bye\"\n",
    "                            return goodbye\n",
    "                        if isprime(p) and isprime(q):\n",
    "                            good_inputs = True\n",
    "                        # Find our public keys\n",
    "                        n, e = Find_Public_Key_e(p, q)\n",
    "                        # Find our private key\n",
    "                        d = Find_Private_Key_d(e, p, q)\n",
    "                prompt = input(\"Please enter message to encode: \")\n",
    "                # Convert user message to ASCII Values\n",
    "                cipher = Encode(n, e, prompt)\n",
    "                product = f'Your encrypted message: {cipher}'\n",
    "                print(product)\n",
    "            elif init_prompt == \"Decode\":\n",
    "                key_question = input(\"Do you already have keys? Y or any key for no: \")\n",
    "                # Checks to determine if user needs to make keys.\n",
    "                if key_question == \"Y\":\n",
    "                    public_keys = int(input(\"Enter public key n: \")), int(input(\"Enter private key e: \"))\n",
    "                    n, e = public_keys\n",
    "                    d = int(input(\"Enter private key d: \"))\n",
    "                elif key_question == \"Q\":\n",
    "                    done = True\n",
    "                    goodbye = \"Good bye\"\n",
    "                    return goodbye\n",
    "                else:\n",
    "                    # Prime number check\n",
    "                    good_inputs = False\n",
    "                    while not good_inputs:\n",
    "                        # Take in user prime numbers.\n",
    "                        p = int(input(\"Enter a large prime number or type 0 to quit: \"))\n",
    "                        q = int(input(\"Enter another large prime number or type 0 to quit: \"))\n",
    "                        # Sentinel for prime numbers\n",
    "                        if p == 0 or q == 0:\n",
    "                            done = True\n",
    "                            goodbye = \"Good bye\"\n",
    "                            return goodbye\n",
    "                        if isprime(p) and isprime(q):\n",
    "                            good_inputs = True\n",
    "                        # Find our public keys\n",
    "                        n, e = Find_Public_Key_e(p, q)\n",
    "                        # Find our private key\n",
    "                        d = Find_Private_Key_d(e, p, q)\n",
    "                encrypted_message = input(\"Copy and paste encrypted message. DO NOT INCLUDE BRACKETS: \")\n",
    "                encrypted_message = encrypted_message.split(',')\n",
    "                # Convert our list of strings to a list of ints\n",
    "                cipher_text = map(int, encrypted_message)\n",
    "                # Use FME to decode message\n",
    "                plain_text = f'Message: {Decode(n, d, cipher_text)}'\n",
    "                print(plain_text)\n",
    "            elif init_prompt == \"BreakCode\":\n",
    "                public_keys = int(input(\"Enter public key n: \")), int(input(\"Enter private key e: \"))\n",
    "                # Quit\n",
    "                if public_keys == \"Q\":\n",
    "                    done = True\n",
    "                    goodbye = \"Good bye\"\n",
    "                    return goodbye\n",
    "                n, e = public_keys\n",
    "                # Conduct prime factorization of n\n",
    "                q = factorize(n)\n",
    "                p = n / q\n",
    "                d = Find_Private_Key_d(e, p, q)\n",
    "                encrypted_message = input(\"Copy and paste encrypted message. DO NOT INCLUDE BRACKETS: \")\n",
    "                encrypted_message = encrypted_message.split(',')\n",
    "                # Convert our list of strings to a list of ints\n",
    "                cipher_text = map(int, encrypted_message)\n",
    "                # Use FME to decode message\n",
    "                plain_text = f'Message: {Decode(n, d, cipher_text)}'\n",
    "                print(plain_text)\n",
    "            elif init_prompt == \"Generate Public Key Only\":\n",
    "                key_question = input(\"Do you already have keys? Y/N or P for only public: \")\n",
    "                # Checks to determine if user needs to make keys.\n",
    "                if key_question == \"Y\":\n",
    "                    public_keys = int(input(\"Enter public key n: \")), int(input(\"Enter private key e: \"))\n",
    "                    n, e = public_keys\n",
    "                    d = int(input(\"Enter private key d: \"))\n",
    "                elif key_question == \"P\":\n",
    "                    public_keys = int(input(\"Enter public key n: \")), int(input(\"Enter private key e: \"))\n",
    "                    n, e = public_keys\n",
    "                elif key_question == \"Q\":\n",
    "                    done = True\n",
    "                    goodbye = \"Good bye\"\n",
    "                    return goodbye\n",
    "                else:\n",
    "                    # Prime number check\n",
    "                    good_inputs = False\n",
    "                    while not good_inputs:\n",
    "                        # Take in user prime numbers.\n",
    "                        p = int(input(\"Enter a large prime number or type 0 to quit: \"))\n",
    "                        q = int(input(\"Enter another large prime number or type 0 to quit: \"))\n",
    "                        # Sentinel for number values\n",
    "                        if p == 0 or q == 0:\n",
    "                            done = True\n",
    "                            goodbye = \"Good bye\"\n",
    "                            return goodbye\n",
    "                        if isprime(p) and isprime(q):\n",
    "                            good_inputs = True\n",
    "                        # Find our public keys\n",
    "                        n, e = Find_Public_Key_e(p, q)\n",
    "                        # Find our private key\n",
    "                        d = Find_Private_Key_d(e, p, q)\n",
    "                print(f\"Public keys, n: {n}, e: {e}\")\n",
    "            elif init_prompt == \"Generate All Keys\":\n",
    "                key_question = input(\"Do you already have keys? Y or any key for no: \")\n",
    "                # Checks to determine if user needs to make keys.\n",
    "                if key_question == \"Y\":\n",
    "                    public_keys = int(input(\"Enter public key n: \")), int(input(\"Enter private key e: \"))\n",
    "                    n, e = public_keys\n",
    "                    d = int(input(\"Enter private key d: \"))\n",
    "                elif key_question == \"Q\":\n",
    "                    done = True\n",
    "                    goodbye = \"Good bye\"\n",
    "                    return goodbye\n",
    "                else:\n",
    "                    # Prime number check\n",
    "                    good_inputs = False\n",
    "                    while not good_inputs:\n",
    "                        # Take in user prime numbers.\n",
    "                        p = int(input(\"Enter a large prime number type 0 to quit: \"))\n",
    "                        q = int(input(\"Enter another large prime number type 0 to quit: \"))\n",
    "                        # Sentinel for prime numbers\n",
    "                        if p == 0 or q == 0:\n",
    "                            done = True\n",
    "                            goodbye = \"Good bye\"\n",
    "                            return goodbye\n",
    "                        if isprime(p) and isprime(q):\n",
    "                            good_inputs = True\n",
    "                        # Find our public keys\n",
    "                        n, e = Find_Public_Key_e(p, q)\n",
    "                        # Find our private key\n",
    "                        d = Find_Private_Key_d(e, p, q)\n",
    "                print(f'Public Keys, n: {n}, e: {e}')\n",
    "                print(f'WARNING DO NOT SHARE PRIVATE KEY, n: {n}, d: {d}')\n",
    "            elif init_prompt == \"Q\":\n",
    "                done = True\n",
    "                goodbye = \"Good bye\"\n",
    "                return goodbye\n",
    "        except:\n",
    "            print(\"Invalid Input\")\n",
    "print(RSA())"
   ]
  },
  {
   "cell_type": "markdown",
   "metadata": {},
   "source": [
    "**Please use the grading guide below to self grade your Custom Feature.**\n",
    "\n",
    "GRADING FOR CUSTOM FEATURE:\n",
    "\n",
    "10 pts  Wow.  It is amazing.\n",
    "        Shows initiative and originality. \n",
    "        You did something extra special and pushed yourself.\n",
    "        You went beyond all expectations \n",
    "        You broke the rules in a creative way. \n",
    "        Your coding and commenting is exceptional.\n",
    "        Excellent \n",
    "\n",
    "7-9 points - It is GOOD! \n",
    "        You were a “self starter.” \n",
    "         You did everything  requested. \n",
    "        All expectations met. \n",
    "       \tYou did a very good job. \n",
    "        Good use of commenting.\n",
    "        Shows mastery of skills.\n",
    "\n",
    "5-6 points  - Okay.\n",
    "        Minimum requirements.\n",
    "        Commenting weak.\n",
    "\n",
    "0-4 points - It is not finished. \n",
    "            Does meet objectives. \n",
    "            Did not follow directions. \n",
    "            Chose not to do this part (which is a totally fine choice)\n"
   ]
  },
  {
   "cell_type": "markdown",
   "metadata": {},
   "source": [
    "## Self grading of custom feature ##\n",
    "\n",
    "Here in this block, please rate what score out of 8 your custom feature merits given the criteria above:\n",
    "\n",
    "* For example, if you are brand new to programming, using a main function could be an amazing feature - tell me how this helped you move to a new level.\n",
    "* In what ways did you push yourself? Did you try something you've never done before?\n",
    "* Alternatively, if you just did not have the time to do the custom feature, this is actually just fine and a reasonable choice. No judgment."
   ]
  },
  {
   "cell_type": "markdown",
   "metadata": {},
   "source": [
    "\n",
    "Custom Feature score: 8.5/10"
   ]
  },
  {
   "cell_type": "markdown",
   "metadata": {},
   "source": [
    "\n",
    "I am currently in 1300 so alot of the topics used in the main function was pushing the boundaries of that class. I am extremely proud of myself for discovering a weigh to quickly create a public key e thats hamming weight was as low as possible while still being relatively prime. I am also very proud that I made the program run until the user enters their sentinel value without completely breaking my computer with an infinite loop. However, I am dissapointed that I did not come up with a solution for a user entering a bracket for decode or breakcode. This is probably an easy fix, but I got distracted by messing around with all the other features and neglected that portion. I also used a disgusting amount of if/then statements, but I was not sure if I knew a better solution to that problem. Perhaps I could use more functions to make the main more readable."
   ]
  },
  {
   "cell_type": "code",
   "execution_count": null,
   "metadata": {},
   "outputs": [],
   "source": []
  }
 ],
 "metadata": {
  "kernelspec": {
   "display_name": "Python 3 (ipykernel)",
   "language": "python",
   "name": "python3"
  },
  "language_info": {
   "codemirror_mode": {
    "name": "ipython",
    "version": 3
   },
   "file_extension": ".py",
   "mimetype": "text/x-python",
   "name": "python",
   "nbconvert_exporter": "python",
   "pygments_lexer": "ipython3",
   "version": "3.10.8"
  }
 },
 "nbformat": 4,
 "nbformat_minor": 4
}
